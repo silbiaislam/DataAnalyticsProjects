{
 "cells": [
  {
   "cell_type": "markdown",
   "id": "c7468b46",
   "metadata": {},
   "source": [
    "# 911 Calls Capstone Project\n",
    "\n",
    "**For this capstone project we will be analyzing some 911 call data from [Kaggle](https://www.kaggle.com/mchirico/montcoalert). The data contains the following fields:**\n",
    "\n",
    "* lat : String variable, Latitude\n",
    "* lng: String variable, Longitude\n",
    "* desc: String variable, Description of the Emergency Call\n",
    "* zip: String variable, Zipcode\n",
    "* title: String variable, Title\n",
    "* timeStamp: String variable, YYYY-MM-DD HH:MM:SS\n",
    "* twp: String variable, Township\n",
    "* addr: String variable, Address\n",
    "* e: String variable, Dummy variable (always 1)"
   ]
  },
  {
   "cell_type": "markdown",
   "id": "59e4caf1",
   "metadata": {},
   "source": [
    "## Data and Setup"
   ]
  },
  {
   "cell_type": "markdown",
   "id": "b1d38e51",
   "metadata": {},
   "source": [
    "---"
   ]
  },
  {
   "cell_type": "markdown",
   "id": "70b3800d",
   "metadata": {},
   "source": [
    "#### Importing numpy, pandas and visualization libraries and set %matplotlib inline."
   ]
  },
  {
   "cell_type": "code",
   "execution_count": 36,
   "id": "e2a5b2c1",
   "metadata": {},
   "outputs": [],
   "source": [
    "import numpy as np\n",
    "import pandas as pd\n",
    "import matplotlib.pyplot as plt\n",
    "import seaborn as sns\n",
    "%matplotlib inline"
   ]
  },
  {
   "cell_type": "markdown",
   "id": "6f4b70a2",
   "metadata": {},
   "source": [
    "#### Reading in the csv file as a dataframe called df"
   ]
  },
  {
   "cell_type": "code",
   "execution_count": 2,
   "id": "c1c27d3e",
   "metadata": {},
   "outputs": [],
   "source": [
    "df=pd.read_csv('911.csv')"
   ]
  },
  {
   "cell_type": "markdown",
   "id": "0e5e6777",
   "metadata": {},
   "source": [
    "#### Examining the data"
   ]
  },
  {
   "cell_type": "code",
   "execution_count": 3,
   "id": "9d667588",
   "metadata": {},
   "outputs": [
    {
     "name": "stdout",
     "output_type": "stream",
     "text": [
      "<class 'pandas.core.frame.DataFrame'>\n",
      "RangeIndex: 663522 entries, 0 to 663521\n",
      "Data columns (total 9 columns):\n",
      " #   Column     Non-Null Count   Dtype  \n",
      "---  ------     --------------   -----  \n",
      " 0   lat        663522 non-null  float64\n",
      " 1   lng        663522 non-null  float64\n",
      " 2   desc       663522 non-null  object \n",
      " 3   zip        583323 non-null  float64\n",
      " 4   title      663522 non-null  object \n",
      " 5   timeStamp  663522 non-null  object \n",
      " 6   twp        663229 non-null  object \n",
      " 7   addr       663522 non-null  object \n",
      " 8   e          663522 non-null  int64  \n",
      "dtypes: float64(3), int64(1), object(5)\n",
      "memory usage: 45.6+ MB\n"
     ]
    }
   ],
   "source": [
    "df.info()"
   ]
  },
  {
   "cell_type": "code",
   "execution_count": 4,
   "id": "be2af2b5",
   "metadata": {},
   "outputs": [
    {
     "data": {
      "text/html": [
       "<div>\n",
       "<style scoped>\n",
       "    .dataframe tbody tr th:only-of-type {\n",
       "        vertical-align: middle;\n",
       "    }\n",
       "\n",
       "    .dataframe tbody tr th {\n",
       "        vertical-align: top;\n",
       "    }\n",
       "\n",
       "    .dataframe thead th {\n",
       "        text-align: right;\n",
       "    }\n",
       "</style>\n",
       "<table border=\"1\" class=\"dataframe\">\n",
       "  <thead>\n",
       "    <tr style=\"text-align: right;\">\n",
       "      <th></th>\n",
       "      <th>lat</th>\n",
       "      <th>lng</th>\n",
       "      <th>desc</th>\n",
       "      <th>zip</th>\n",
       "      <th>title</th>\n",
       "      <th>timeStamp</th>\n",
       "      <th>twp</th>\n",
       "      <th>addr</th>\n",
       "      <th>e</th>\n",
       "    </tr>\n",
       "  </thead>\n",
       "  <tbody>\n",
       "    <tr>\n",
       "      <th>0</th>\n",
       "      <td>40.297876</td>\n",
       "      <td>-75.581294</td>\n",
       "      <td>REINDEER CT &amp; DEAD END;  NEW HANOVER; Station ...</td>\n",
       "      <td>19525.0</td>\n",
       "      <td>EMS: BACK PAINS/INJURY</td>\n",
       "      <td>2015-12-10 17:10:52</td>\n",
       "      <td>NEW HANOVER</td>\n",
       "      <td>REINDEER CT &amp; DEAD END</td>\n",
       "      <td>1</td>\n",
       "    </tr>\n",
       "    <tr>\n",
       "      <th>1</th>\n",
       "      <td>40.258061</td>\n",
       "      <td>-75.264680</td>\n",
       "      <td>BRIAR PATH &amp; WHITEMARSH LN;  HATFIELD TOWNSHIP...</td>\n",
       "      <td>19446.0</td>\n",
       "      <td>EMS: DIABETIC EMERGENCY</td>\n",
       "      <td>2015-12-10 17:29:21</td>\n",
       "      <td>HATFIELD TOWNSHIP</td>\n",
       "      <td>BRIAR PATH &amp; WHITEMARSH LN</td>\n",
       "      <td>1</td>\n",
       "    </tr>\n",
       "    <tr>\n",
       "      <th>2</th>\n",
       "      <td>40.121182</td>\n",
       "      <td>-75.351975</td>\n",
       "      <td>HAWS AVE; NORRISTOWN; 2015-12-10 @ 14:39:21-St...</td>\n",
       "      <td>19401.0</td>\n",
       "      <td>Fire: GAS-ODOR/LEAK</td>\n",
       "      <td>2015-12-10 14:39:21</td>\n",
       "      <td>NORRISTOWN</td>\n",
       "      <td>HAWS AVE</td>\n",
       "      <td>1</td>\n",
       "    </tr>\n",
       "    <tr>\n",
       "      <th>3</th>\n",
       "      <td>40.116153</td>\n",
       "      <td>-75.343513</td>\n",
       "      <td>AIRY ST &amp; SWEDE ST;  NORRISTOWN; Station 308A;...</td>\n",
       "      <td>19401.0</td>\n",
       "      <td>EMS: CARDIAC EMERGENCY</td>\n",
       "      <td>2015-12-10 16:47:36</td>\n",
       "      <td>NORRISTOWN</td>\n",
       "      <td>AIRY ST &amp; SWEDE ST</td>\n",
       "      <td>1</td>\n",
       "    </tr>\n",
       "    <tr>\n",
       "      <th>4</th>\n",
       "      <td>40.251492</td>\n",
       "      <td>-75.603350</td>\n",
       "      <td>CHERRYWOOD CT &amp; DEAD END;  LOWER POTTSGROVE; S...</td>\n",
       "      <td>NaN</td>\n",
       "      <td>EMS: DIZZINESS</td>\n",
       "      <td>2015-12-10 16:56:52</td>\n",
       "      <td>LOWER POTTSGROVE</td>\n",
       "      <td>CHERRYWOOD CT &amp; DEAD END</td>\n",
       "      <td>1</td>\n",
       "    </tr>\n",
       "  </tbody>\n",
       "</table>\n",
       "</div>"
      ],
      "text/plain": [
       "         lat        lng                                               desc  \\\n",
       "0  40.297876 -75.581294  REINDEER CT & DEAD END;  NEW HANOVER; Station ...   \n",
       "1  40.258061 -75.264680  BRIAR PATH & WHITEMARSH LN;  HATFIELD TOWNSHIP...   \n",
       "2  40.121182 -75.351975  HAWS AVE; NORRISTOWN; 2015-12-10 @ 14:39:21-St...   \n",
       "3  40.116153 -75.343513  AIRY ST & SWEDE ST;  NORRISTOWN; Station 308A;...   \n",
       "4  40.251492 -75.603350  CHERRYWOOD CT & DEAD END;  LOWER POTTSGROVE; S...   \n",
       "\n",
       "       zip                    title            timeStamp                twp  \\\n",
       "0  19525.0   EMS: BACK PAINS/INJURY  2015-12-10 17:10:52        NEW HANOVER   \n",
       "1  19446.0  EMS: DIABETIC EMERGENCY  2015-12-10 17:29:21  HATFIELD TOWNSHIP   \n",
       "2  19401.0      Fire: GAS-ODOR/LEAK  2015-12-10 14:39:21         NORRISTOWN   \n",
       "3  19401.0   EMS: CARDIAC EMERGENCY  2015-12-10 16:47:36         NORRISTOWN   \n",
       "4      NaN           EMS: DIZZINESS  2015-12-10 16:56:52   LOWER POTTSGROVE   \n",
       "\n",
       "                         addr  e  \n",
       "0      REINDEER CT & DEAD END  1  \n",
       "1  BRIAR PATH & WHITEMARSH LN  1  \n",
       "2                    HAWS AVE  1  \n",
       "3          AIRY ST & SWEDE ST  1  \n",
       "4    CHERRYWOOD CT & DEAD END  1  "
      ]
     },
     "execution_count": 4,
     "metadata": {},
     "output_type": "execute_result"
    }
   ],
   "source": [
    "df.head()"
   ]
  },
  {
   "cell_type": "markdown",
   "id": "6ea24295",
   "metadata": {},
   "source": [
    "#### What are the top 5 zipcodes for 911 calls?"
   ]
  },
  {
   "cell_type": "code",
   "execution_count": 5,
   "id": "e457e5fb",
   "metadata": {},
   "outputs": [
    {
     "data": {
      "text/plain": [
       "19401.0    45606\n",
       "19464.0    43910\n",
       "19403.0    34888\n",
       "19446.0    32270\n",
       "19406.0    22464\n",
       "Name: zip, dtype: int64"
      ]
     },
     "execution_count": 5,
     "metadata": {},
     "output_type": "execute_result"
    }
   ],
   "source": [
    "df['zip'].value_counts().head(5)"
   ]
  },
  {
   "cell_type": "markdown",
   "id": "08343b28",
   "metadata": {},
   "source": [
    "#### What are the top 5 townships (twp) for 911 calls?"
   ]
  },
  {
   "cell_type": "code",
   "execution_count": 6,
   "id": "5bf5c043",
   "metadata": {},
   "outputs": [
    {
     "data": {
      "text/plain": [
       "LOWER MERION    55490\n",
       "ABINGTON        39947\n",
       "NORRISTOWN      37633\n",
       "UPPER MERION    36010\n",
       "CHELTENHAM      30574\n",
       "Name: twp, dtype: int64"
      ]
     },
     "execution_count": 6,
     "metadata": {},
     "output_type": "execute_result"
    }
   ],
   "source": [
    "df['twp'].value_counts().head(5)"
   ]
  },
  {
   "cell_type": "markdown",
   "id": "d028dc33",
   "metadata": {},
   "source": [
    "#### Taking a look at the 'title' column, how many unique title codes are there?"
   ]
  },
  {
   "cell_type": "code",
   "execution_count": 7,
   "id": "67ddd6ab",
   "metadata": {},
   "outputs": [
    {
     "data": {
      "text/plain": [
       "148"
      ]
     },
     "execution_count": 7,
     "metadata": {},
     "output_type": "execute_result"
    }
   ],
   "source": [
    "len(df['title'].unique())#df['title'].nunique()"
   ]
  },
  {
   "cell_type": "markdown",
   "id": "f30a0874",
   "metadata": {},
   "source": [
    "## Creating new features\n",
    "**In the titles column there are \"Reasons/Departments\" specified before the title code. These are EMS, Fire, and Traffic. Using .apply() with a custom lambda expression to create a new column called \"Reason\" that contains this string value.**\n",
    "\n",
    "**For example, if the title column value is EMS: BACK PAINS/INJURY , the Reason column value would be EMS.**"
   ]
  },
  {
   "cell_type": "markdown",
   "id": "18842403",
   "metadata": {},
   "source": [
    "---"
   ]
  },
  {
   "cell_type": "code",
   "execution_count": 8,
   "id": "b1a3e178",
   "metadata": {},
   "outputs": [],
   "source": [
    "def reason(col):\n",
    "    words=col.split(':')\n",
    "    return words[0]\n",
    "df['Reason']=df['title'].apply(reason)"
   ]
  },
  {
   "cell_type": "code",
   "execution_count": 9,
   "id": "56eae2b2",
   "metadata": {},
   "outputs": [
    {
     "data": {
      "text/html": [
       "<div>\n",
       "<style scoped>\n",
       "    .dataframe tbody tr th:only-of-type {\n",
       "        vertical-align: middle;\n",
       "    }\n",
       "\n",
       "    .dataframe tbody tr th {\n",
       "        vertical-align: top;\n",
       "    }\n",
       "\n",
       "    .dataframe thead th {\n",
       "        text-align: right;\n",
       "    }\n",
       "</style>\n",
       "<table border=\"1\" class=\"dataframe\">\n",
       "  <thead>\n",
       "    <tr style=\"text-align: right;\">\n",
       "      <th></th>\n",
       "      <th>lat</th>\n",
       "      <th>lng</th>\n",
       "      <th>desc</th>\n",
       "      <th>zip</th>\n",
       "      <th>title</th>\n",
       "      <th>timeStamp</th>\n",
       "      <th>twp</th>\n",
       "      <th>addr</th>\n",
       "      <th>e</th>\n",
       "      <th>Reason</th>\n",
       "    </tr>\n",
       "  </thead>\n",
       "  <tbody>\n",
       "    <tr>\n",
       "      <th>0</th>\n",
       "      <td>40.297876</td>\n",
       "      <td>-75.581294</td>\n",
       "      <td>REINDEER CT &amp; DEAD END;  NEW HANOVER; Station ...</td>\n",
       "      <td>19525.0</td>\n",
       "      <td>EMS: BACK PAINS/INJURY</td>\n",
       "      <td>2015-12-10 17:10:52</td>\n",
       "      <td>NEW HANOVER</td>\n",
       "      <td>REINDEER CT &amp; DEAD END</td>\n",
       "      <td>1</td>\n",
       "      <td>EMS</td>\n",
       "    </tr>\n",
       "    <tr>\n",
       "      <th>1</th>\n",
       "      <td>40.258061</td>\n",
       "      <td>-75.264680</td>\n",
       "      <td>BRIAR PATH &amp; WHITEMARSH LN;  HATFIELD TOWNSHIP...</td>\n",
       "      <td>19446.0</td>\n",
       "      <td>EMS: DIABETIC EMERGENCY</td>\n",
       "      <td>2015-12-10 17:29:21</td>\n",
       "      <td>HATFIELD TOWNSHIP</td>\n",
       "      <td>BRIAR PATH &amp; WHITEMARSH LN</td>\n",
       "      <td>1</td>\n",
       "      <td>EMS</td>\n",
       "    </tr>\n",
       "    <tr>\n",
       "      <th>2</th>\n",
       "      <td>40.121182</td>\n",
       "      <td>-75.351975</td>\n",
       "      <td>HAWS AVE; NORRISTOWN; 2015-12-10 @ 14:39:21-St...</td>\n",
       "      <td>19401.0</td>\n",
       "      <td>Fire: GAS-ODOR/LEAK</td>\n",
       "      <td>2015-12-10 14:39:21</td>\n",
       "      <td>NORRISTOWN</td>\n",
       "      <td>HAWS AVE</td>\n",
       "      <td>1</td>\n",
       "      <td>Fire</td>\n",
       "    </tr>\n",
       "    <tr>\n",
       "      <th>3</th>\n",
       "      <td>40.116153</td>\n",
       "      <td>-75.343513</td>\n",
       "      <td>AIRY ST &amp; SWEDE ST;  NORRISTOWN; Station 308A;...</td>\n",
       "      <td>19401.0</td>\n",
       "      <td>EMS: CARDIAC EMERGENCY</td>\n",
       "      <td>2015-12-10 16:47:36</td>\n",
       "      <td>NORRISTOWN</td>\n",
       "      <td>AIRY ST &amp; SWEDE ST</td>\n",
       "      <td>1</td>\n",
       "      <td>EMS</td>\n",
       "    </tr>\n",
       "    <tr>\n",
       "      <th>4</th>\n",
       "      <td>40.251492</td>\n",
       "      <td>-75.603350</td>\n",
       "      <td>CHERRYWOOD CT &amp; DEAD END;  LOWER POTTSGROVE; S...</td>\n",
       "      <td>NaN</td>\n",
       "      <td>EMS: DIZZINESS</td>\n",
       "      <td>2015-12-10 16:56:52</td>\n",
       "      <td>LOWER POTTSGROVE</td>\n",
       "      <td>CHERRYWOOD CT &amp; DEAD END</td>\n",
       "      <td>1</td>\n",
       "      <td>EMS</td>\n",
       "    </tr>\n",
       "  </tbody>\n",
       "</table>\n",
       "</div>"
      ],
      "text/plain": [
       "         lat        lng                                               desc  \\\n",
       "0  40.297876 -75.581294  REINDEER CT & DEAD END;  NEW HANOVER; Station ...   \n",
       "1  40.258061 -75.264680  BRIAR PATH & WHITEMARSH LN;  HATFIELD TOWNSHIP...   \n",
       "2  40.121182 -75.351975  HAWS AVE; NORRISTOWN; 2015-12-10 @ 14:39:21-St...   \n",
       "3  40.116153 -75.343513  AIRY ST & SWEDE ST;  NORRISTOWN; Station 308A;...   \n",
       "4  40.251492 -75.603350  CHERRYWOOD CT & DEAD END;  LOWER POTTSGROVE; S...   \n",
       "\n",
       "       zip                    title            timeStamp                twp  \\\n",
       "0  19525.0   EMS: BACK PAINS/INJURY  2015-12-10 17:10:52        NEW HANOVER   \n",
       "1  19446.0  EMS: DIABETIC EMERGENCY  2015-12-10 17:29:21  HATFIELD TOWNSHIP   \n",
       "2  19401.0      Fire: GAS-ODOR/LEAK  2015-12-10 14:39:21         NORRISTOWN   \n",
       "3  19401.0   EMS: CARDIAC EMERGENCY  2015-12-10 16:47:36         NORRISTOWN   \n",
       "4      NaN           EMS: DIZZINESS  2015-12-10 16:56:52   LOWER POTTSGROVE   \n",
       "\n",
       "                         addr  e Reason  \n",
       "0      REINDEER CT & DEAD END  1    EMS  \n",
       "1  BRIAR PATH & WHITEMARSH LN  1    EMS  \n",
       "2                    HAWS AVE  1   Fire  \n",
       "3          AIRY ST & SWEDE ST  1    EMS  \n",
       "4    CHERRYWOOD CT & DEAD END  1    EMS  "
      ]
     },
     "execution_count": 9,
     "metadata": {},
     "output_type": "execute_result"
    }
   ],
   "source": [
    "df.head()"
   ]
  },
  {
   "cell_type": "markdown",
   "id": "f29fd48a",
   "metadata": {},
   "source": [
    "#### What is the most common Reason for a 911 call based off of this new column?"
   ]
  },
  {
   "cell_type": "code",
   "execution_count": 10,
   "id": "4259f8ad",
   "metadata": {},
   "outputs": [
    {
     "data": {
      "text/plain": [
       "EMS    332692\n",
       "Name: Reason, dtype: int64"
      ]
     },
     "execution_count": 10,
     "metadata": {},
     "output_type": "execute_result"
    }
   ],
   "source": [
    "df['Reason'].value_counts().head(1)"
   ]
  },
  {
   "cell_type": "markdown",
   "id": "5ccb4d66",
   "metadata": {},
   "source": [
    "#### Now using seaborn to create a countplot of 911 calls by Reason."
   ]
  },
  {
   "cell_type": "code",
   "execution_count": 11,
   "id": "0d32e5fe",
   "metadata": {},
   "outputs": [
    {
     "data": {
      "text/plain": [
       "<AxesSubplot:xlabel='Reason', ylabel='count'>"
      ]
     },
     "execution_count": 11,
     "metadata": {},
     "output_type": "execute_result"
    },
    {
     "data": {
      "image/png": "[encoded data removed]",
      "text/plain": [
       "<Figure size 432x288 with 1 Axes>"
      ]
     },
     "metadata": {
      "needs_background": "light"
     },
     "output_type": "display_data"
    }
   ],
   "source": [
    "sns.countplot(x='Reason',data=df,palette='coolwarm')"
   ]
  },
  {
   "cell_type": "markdown",
   "id": "6662219e",
   "metadata": {},
   "source": [
    "---"
   ]
  },
  {
   "cell_type": "markdown",
   "id": "6331146e",
   "metadata": {},
   "source": [
    "#### Now focusing on time information. What is the data type of the objects in the timeStamp column?"
   ]
  },
  {
   "cell_type": "code",
   "execution_count": 12,
   "id": "03d309dc",
   "metadata": {},
   "outputs": [
    {
     "data": {
      "text/plain": [
       "str"
      ]
     },
     "execution_count": 12,
     "metadata": {},
     "output_type": "execute_result"
    }
   ],
   "source": [
    "type(df['timeStamp'][0])"
   ]
  },
  {
   "cell_type": "markdown",
   "id": "7d6fa8f0",
   "metadata": {},
   "source": [
    "#### As seen that the timestamps are still strings, using pd.to_datetime to convert the column from strings to DateTime objects."
   ]
  },
  {
   "cell_type": "code",
   "execution_count": 13,
   "id": "2f744cda",
   "metadata": {},
   "outputs": [],
   "source": [
    "df['timeStamp']=pd.to_datetime(df['timeStamp'])"
   ]
  },
  {
   "cell_type": "markdown",
   "id": "ae6210e5",
   "metadata": {},
   "source": [
    "####  Specific attributes can be grabbed from a Datetime object by calling them. For example:\n",
    "\n",
    "    time = df['timeStamp'].iloc[0]\n",
    "    time.hour\n",
    "\n",
    "**Now that the timestamp column are actually DateTime objects, use .apply() to create 3 new columns called Hour, Month, and Day of Week. These columns are created based off of the timeStamp column.**"
   ]
  },
  {
   "cell_type": "code",
   "execution_count": 14,
   "id": "d48dcd36",
   "metadata": {},
   "outputs": [],
   "source": [
    "df['Hour'] = df['timeStamp'].apply(lambda time: time.hour)\n",
    "df['Month'] = df['timeStamp'].apply(lambda time: time.month)\n",
    "df['Day of Week'] = df['timeStamp'].apply(lambda time: time.dayofweek)"
   ]
  },
  {
   "cell_type": "markdown",
   "id": "420ed593",
   "metadata": {},
   "source": [
    "#### Notice how the Day of Week is an integer 0-6. Use the .map() with this dictionary to map the actual string names to the day of the week:\n",
    "\n",
    "    dmap = {0:'Mon',1:'Tue',2:'Wed',3:'Thu',4:'Fri',5:'Sat',6:'Sun'}"
   ]
  },
  {
   "cell_type": "code",
   "execution_count": 15,
   "id": "9396d9ba",
   "metadata": {},
   "outputs": [],
   "source": [
    "dmap = {0:'Mon',1:'Tue',2:'Wed',3:'Thu',4:'Fri',5:'Sat',6:'Sun'}"
   ]
  },
  {
   "cell_type": "code",
   "execution_count": 16,
   "id": "277686dd",
   "metadata": {},
   "outputs": [],
   "source": [
    "df['Day of Week'] = df['Day of Week'].map(dmap)"
   ]
  },
  {
   "cell_type": "code",
   "execution_count": 17,
   "id": "1b96f43c",
   "metadata": {},
   "outputs": [
    {
     "data": {
      "text/plain": [
       "0         Thu\n",
       "1         Thu\n",
       "2         Thu\n",
       "3         Thu\n",
       "4         Thu\n",
       "         ... \n",
       "663517    Wed\n",
       "663518    Wed\n",
       "663519    Wed\n",
       "663520    Wed\n",
       "663521    Wed\n",
       "Name: Day of Week, Length: 663522, dtype: object"
      ]
     },
     "execution_count": 17,
     "metadata": {},
     "output_type": "execute_result"
    }
   ],
   "source": [
    "df['Day of Week']"
   ]
  },
  {
   "cell_type": "markdown",
   "id": "65a86286",
   "metadata": {},
   "source": [
    "#### Now using seaborn to create a countplot of the Day of Week column with the hue based off of the Reason column."
   ]
  },
  {
   "cell_type": "code",
   "execution_count": 18,
   "id": "1e409e3c",
   "metadata": {},
   "outputs": [
    {
     "data": {
      "text/plain": [
       "<matplotlib.legend.Legend at 0x1e885c9dac0>"
      ]
     },
     "execution_count": 18,
     "metadata": {},
     "output_type": "execute_result"
    },
    {
     "data": {
      "image/png": "[encoded data removed]",
      "text/plain": [
       "<Figure size 432x288 with 1 Axes>"
      ]
     },
     "metadata": {
      "needs_background": "light"
     },
     "output_type": "display_data"
    }
   ],
   "source": [
    "sns.countplot(x='Day of Week',data=df,hue='Reason',palette='viridis')\n",
    "\n",
    "plt.legend(bbox_to_anchor=(1.05, 1), loc=2, borderaxespad=0.)"
   ]
  },
  {
   "cell_type": "markdown",
   "id": "fa5a0e6f",
   "metadata": {},
   "source": [
    "#### Now doing the same for Month:"
   ]
  },
  {
   "cell_type": "code",
   "execution_count": 19,
   "id": "5b1394c0",
   "metadata": {},
   "outputs": [
    {
     "data": {
      "text/plain": [
       "<matplotlib.legend.Legend at 0x1e8a6b05610>"
      ]
     },
     "execution_count": 19,
     "metadata": {},
     "output_type": "execute_result"
    },
    {
     "data": {
      "image/png": "[encoded data removed]",
      "text/plain": [
       "<Figure size 432x288 with 1 Axes>"
      ]
     },
     "metadata": {
      "needs_background": "light"
     },
     "output_type": "display_data"
    }
   ],
   "source": [
    "sns.countplot(x='Month',data=df,hue='Reason',palette='viridis')\n",
    "\n",
    "plt.legend(bbox_to_anchor=(1.05, 1), loc=2, borderaxespad=0.)"
   ]
  },
  {
   "cell_type": "markdown",
   "id": "f9584928",
   "metadata": {},
   "source": [
    "**Let's examine the Plot?**"
   ]
  },
  {
   "cell_type": "markdown",
   "id": "7b71a913",
   "metadata": {},
   "source": [
    "---"
   ]
  },
  {
   "cell_type": "markdown",
   "id": "e131c5e1",
   "metadata": {},
   "source": [
    "**The plot is missing some Months, let's see if we can maybe fill in this information by plotting the information in another way, possibly a simple line plot that fills in the missing months.**\n",
    "\n",
    "**Now creating a gropuby object called byMonth, where the DataFrame is grouped by the month column and use the count() method for aggregation. Use the head() method on this returned DataFrame.**"
   ]
  },
  {
   "cell_type": "code",
   "execution_count": 20,
   "id": "909f82a1",
   "metadata": {},
   "outputs": [
    {
     "data": {
      "text/html": [
       "<div>\n",
       "<style scoped>\n",
       "    .dataframe tbody tr th:only-of-type {\n",
       "        vertical-align: middle;\n",
       "    }\n",
       "\n",
       "    .dataframe tbody tr th {\n",
       "        vertical-align: top;\n",
       "    }\n",
       "\n",
       "    .dataframe thead th {\n",
       "        text-align: right;\n",
       "    }\n",
       "</style>\n",
       "<table border=\"1\" class=\"dataframe\">\n",
       "  <thead>\n",
       "    <tr style=\"text-align: right;\">\n",
       "      <th></th>\n",
       "      <th>lat</th>\n",
       "      <th>lng</th>\n",
       "      <th>desc</th>\n",
       "      <th>zip</th>\n",
       "      <th>title</th>\n",
       "      <th>timeStamp</th>\n",
       "      <th>twp</th>\n",
       "      <th>addr</th>\n",
       "      <th>e</th>\n",
       "      <th>Reason</th>\n",
       "      <th>Hour</th>\n",
       "      <th>Day of Week</th>\n",
       "    </tr>\n",
       "    <tr>\n",
       "      <th>Month</th>\n",
       "      <th></th>\n",
       "      <th></th>\n",
       "      <th></th>\n",
       "      <th></th>\n",
       "      <th></th>\n",
       "      <th></th>\n",
       "      <th></th>\n",
       "      <th></th>\n",
       "      <th></th>\n",
       "      <th></th>\n",
       "      <th></th>\n",
       "      <th></th>\n",
       "    </tr>\n",
       "  </thead>\n",
       "  <tbody>\n",
       "    <tr>\n",
       "      <th>1</th>\n",
       "      <td>62336</td>\n",
       "      <td>62336</td>\n",
       "      <td>62336</td>\n",
       "      <td>55294</td>\n",
       "      <td>62336</td>\n",
       "      <td>62336</td>\n",
       "      <td>62312</td>\n",
       "      <td>62336</td>\n",
       "      <td>62336</td>\n",
       "      <td>62336</td>\n",
       "      <td>62336</td>\n",
       "      <td>62336</td>\n",
       "    </tr>\n",
       "    <tr>\n",
       "      <th>2</th>\n",
       "      <td>55427</td>\n",
       "      <td>55427</td>\n",
       "      <td>55427</td>\n",
       "      <td>48922</td>\n",
       "      <td>55427</td>\n",
       "      <td>55427</td>\n",
       "      <td>55405</td>\n",
       "      <td>55427</td>\n",
       "      <td>55427</td>\n",
       "      <td>55427</td>\n",
       "      <td>55427</td>\n",
       "      <td>55427</td>\n",
       "    </tr>\n",
       "    <tr>\n",
       "      <th>3</th>\n",
       "      <td>60027</td>\n",
       "      <td>60027</td>\n",
       "      <td>60027</td>\n",
       "      <td>53252</td>\n",
       "      <td>60027</td>\n",
       "      <td>60027</td>\n",
       "      <td>60001</td>\n",
       "      <td>60027</td>\n",
       "      <td>60027</td>\n",
       "      <td>60027</td>\n",
       "      <td>60027</td>\n",
       "      <td>60027</td>\n",
       "    </tr>\n",
       "    <tr>\n",
       "      <th>4</th>\n",
       "      <td>53671</td>\n",
       "      <td>53671</td>\n",
       "      <td>53671</td>\n",
       "      <td>47349</td>\n",
       "      <td>53671</td>\n",
       "      <td>53671</td>\n",
       "      <td>53655</td>\n",
       "      <td>53671</td>\n",
       "      <td>53671</td>\n",
       "      <td>53671</td>\n",
       "      <td>53671</td>\n",
       "      <td>53671</td>\n",
       "    </tr>\n",
       "    <tr>\n",
       "      <th>5</th>\n",
       "      <td>57509</td>\n",
       "      <td>57509</td>\n",
       "      <td>57509</td>\n",
       "      <td>50354</td>\n",
       "      <td>57509</td>\n",
       "      <td>57509</td>\n",
       "      <td>57474</td>\n",
       "      <td>57509</td>\n",
       "      <td>57509</td>\n",
       "      <td>57509</td>\n",
       "      <td>57509</td>\n",
       "      <td>57509</td>\n",
       "    </tr>\n",
       "  </tbody>\n",
       "</table>\n",
       "</div>"
      ],
      "text/plain": [
       "         lat    lng   desc    zip  title  timeStamp    twp   addr      e  \\\n",
       "Month                                                                      \n",
       "1      62336  62336  62336  55294  62336      62336  62312  62336  62336   \n",
       "2      55427  55427  55427  48922  55427      55427  55405  55427  55427   \n",
       "3      60027  60027  60027  53252  60027      60027  60001  60027  60027   \n",
       "4      53671  53671  53671  47349  53671      53671  53655  53671  53671   \n",
       "5      57509  57509  57509  50354  57509      57509  57474  57509  57509   \n",
       "\n",
       "       Reason   Hour  Day of Week  \n",
       "Month                              \n",
       "1       62336  62336        62336  \n",
       "2       55427  55427        55427  \n",
       "3       60027  60027        60027  \n",
       "4       53671  53671        53671  \n",
       "5       57509  57509        57509  "
      ]
     },
     "execution_count": 20,
     "metadata": {},
     "output_type": "execute_result"
    }
   ],
   "source": [
    "byMonth=df.groupby('Month').count()\n",
    "byMonth.head()"
   ]
  },
  {
   "cell_type": "markdown",
   "id": "d1a63f82",
   "metadata": {},
   "source": [
    "#### Now creating a simple plot off of the dataframe indicating the count of calls per month."
   ]
  },
  {
   "cell_type": "code",
   "execution_count": 21,
   "id": "9f6cb88a",
   "metadata": {},
   "outputs": [
    {
     "data": {
      "text/plain": [
       "<AxesSubplot:xlabel='Month'>"
      ]
     },
     "execution_count": 21,
     "metadata": {},
     "output_type": "execute_result"
    },
    {
     "data": {
      "image/png": "[encoded data removed]",
      "text/plain": [
       "<Figure size 432x288 with 1 Axes>"
      ]
     },
     "metadata": {
      "needs_background": "light"
     },
     "output_type": "display_data"
    }
   ],
   "source": [
    "byMonth['twp'].plot()"
   ]
  },
  {
   "cell_type": "markdown",
   "id": "865115d7",
   "metadata": {},
   "source": [
    "#### Now using seaborn's lmplot() to create a linear fit on the number of calls per month. We may need to reset the index to a column."
   ]
  },
  {
   "cell_type": "code",
   "execution_count": 22,
   "id": "6fe8eb35",
   "metadata": {},
   "outputs": [
    {
     "data": {
      "text/plain": [
       "<seaborn.axisgrid.FacetGrid at 0x1e8a7d2ab20>"
      ]
     },
     "execution_count": 22,
     "metadata": {},
     "output_type": "execute_result"
    },
    {
     "data": {
      "image/png": "[encoded data removed]",
      "text/plain": [
       "<Figure size 360x360 with 1 Axes>"
      ]
     },
     "metadata": {
      "needs_background": "light"
     },
     "output_type": "display_data"
    }
   ],
   "source": [
    "sns.lmplot(x='Month',y='twp',data=byMonth.reset_index())"
   ]
  },
  {
   "cell_type": "markdown",
   "id": "d83db87b",
   "metadata": {},
   "source": [
    "**Creating a new column called 'Date' that contains the date from the timeStamp column. We will use apply along with the .date() method.**"
   ]
  },
  {
   "cell_type": "code",
   "execution_count": 23,
   "id": "f21c8380",
   "metadata": {},
   "outputs": [],
   "source": [
    "df['Date'] = df['timeStamp'].apply(lambda t: t.date())"
   ]
  },
  {
   "cell_type": "markdown",
   "id": "0a1fa283",
   "metadata": {},
   "source": [
    "**Now groupby-ing this Date column with the count() aggregate and creating a plot of counts of 911 calls.**"
   ]
  },
  {
   "cell_type": "code",
   "execution_count": 24,
   "id": "3ea1148e",
   "metadata": {},
   "outputs": [
    {
     "data": {
      "image/png": "[encoded data removed]",
      "text/plain": [
       "<Figure size 432x288 with 1 Axes>"
      ]
     },
     "metadata": {
      "needs_background": "light"
     },
     "output_type": "display_data"
    }
   ],
   "source": [
    "df.groupby('Date').count()['twp'].plot()\n",
    "plt.tight_layout()"
   ]
  },
  {
   "cell_type": "markdown",
   "id": "b9814e59",
   "metadata": {},
   "source": [
    "**Now recreating this plot but creating 3 separate plots with each plot representing a Reason for the 911 call**"
   ]
  },
  {
   "cell_type": "code",
   "execution_count": 25,
   "id": "fdac232e",
   "metadata": {},
   "outputs": [
    {
     "data": {
      "image/png": "[encoded data removed]",
      "text/plain": [
       "<Figure size 432x288 with 1 Axes>"
      ]
     },
     "metadata": {
      "needs_background": "light"
     },
     "output_type": "display_data"
    }
   ],
   "source": [
    "df[df['Reason']=='Traffic'].groupby('Date').count()['twp'].plot()\n",
    "plt.title('Traffic')\n",
    "plt.tight_layout()"
   ]
  },
  {
   "cell_type": "code",
   "execution_count": 26,
   "id": "d985328b",
   "metadata": {},
   "outputs": [
    {
     "data": {
      "image/png": "[encoded data removed]",
      "text/plain": [
       "<Figure size 432x288 with 1 Axes>"
      ]
     },
     "metadata": {
      "needs_background": "light"
     },
     "output_type": "display_data"
    }
   ],
   "source": [
    "df[df['Reason']=='Fire'].groupby('Date').count()['twp'].plot()\n",
    "plt.title('Traffic')\n",
    "plt.tight_layout()"
   ]
  },
  {
   "cell_type": "code",
   "execution_count": 27,
   "id": "e37d4bae",
   "metadata": {},
   "outputs": [
    {
     "data": {
      "image/png": "[encoded data removed]",
      "text/plain": [
       "<Figure size 432x288 with 1 Axes>"
      ]
     },
     "metadata": {
      "needs_background": "light"
     },
     "output_type": "display_data"
    }
   ],
   "source": [
    "df[df['Reason']=='EMS'].groupby('Date').count()['twp'].plot()\n",
    "plt.title('Traffic')\n",
    "plt.tight_layout()"
   ]
  },
  {
   "cell_type": "markdown",
   "id": "2db807b4",
   "metadata": {},
   "source": [
    "---"
   ]
  },
  {
   "cell_type": "markdown",
   "id": "2e9ecc33",
   "metadata": {},
   "source": [
    "**Now let's move on to creating heatmaps with seaborn and our data. We'll first need to restructure the dataframe so that the columns become the Hours and the Index becomes the Day of the Week.**"
   ]
  },
  {
   "cell_type": "code",
   "execution_count": 28,
   "id": "dda64453",
   "metadata": {},
   "outputs": [
    {
     "data": {
      "text/html": [
       "<div>\n",
       "<style scoped>\n",
       "    .dataframe tbody tr th:only-of-type {\n",
       "        vertical-align: middle;\n",
       "    }\n",
       "\n",
       "    .dataframe tbody tr th {\n",
       "        vertical-align: top;\n",
       "    }\n",
       "\n",
       "    .dataframe thead th {\n",
       "        text-align: right;\n",
       "    }\n",
       "</style>\n",
       "<table border=\"1\" class=\"dataframe\">\n",
       "  <thead>\n",
       "    <tr style=\"text-align: right;\">\n",
       "      <th>Hour</th>\n",
       "      <th>0</th>\n",
       "      <th>1</th>\n",
       "      <th>2</th>\n",
       "      <th>3</th>\n",
       "      <th>4</th>\n",
       "      <th>5</th>\n",
       "      <th>6</th>\n",
       "      <th>7</th>\n",
       "      <th>8</th>\n",
       "      <th>9</th>\n",
       "      <th>...</th>\n",
       "      <th>14</th>\n",
       "      <th>15</th>\n",
       "      <th>16</th>\n",
       "      <th>17</th>\n",
       "      <th>18</th>\n",
       "      <th>19</th>\n",
       "      <th>20</th>\n",
       "      <th>21</th>\n",
       "      <th>22</th>\n",
       "      <th>23</th>\n",
       "    </tr>\n",
       "    <tr>\n",
       "      <th>Day of Week</th>\n",
       "      <th></th>\n",
       "      <th></th>\n",
       "      <th></th>\n",
       "      <th></th>\n",
       "      <th></th>\n",
       "      <th></th>\n",
       "      <th></th>\n",
       "      <th></th>\n",
       "      <th></th>\n",
       "      <th></th>\n",
       "      <th></th>\n",
       "      <th></th>\n",
       "      <th></th>\n",
       "      <th></th>\n",
       "      <th></th>\n",
       "      <th></th>\n",
       "      <th></th>\n",
       "      <th></th>\n",
       "      <th></th>\n",
       "      <th></th>\n",
       "      <th></th>\n",
       "    </tr>\n",
       "  </thead>\n",
       "  <tbody>\n",
       "    <tr>\n",
       "      <th>Fri</th>\n",
       "      <td>1983</td>\n",
       "      <td>1635</td>\n",
       "      <td>1449</td>\n",
       "      <td>1296</td>\n",
       "      <td>1339</td>\n",
       "      <td>1639</td>\n",
       "      <td>2670</td>\n",
       "      <td>4143</td>\n",
       "      <td>5018</td>\n",
       "      <td>5288</td>\n",
       "      <td>...</td>\n",
       "      <td>6394</td>\n",
       "      <td>7040</td>\n",
       "      <td>7065</td>\n",
       "      <td>7113</td>\n",
       "      <td>5668</td>\n",
       "      <td>5056</td>\n",
       "      <td>4375</td>\n",
       "      <td>3913</td>\n",
       "      <td>3422</td>\n",
       "      <td>2834</td>\n",
       "    </tr>\n",
       "    <tr>\n",
       "      <th>Mon</th>\n",
       "      <td>1894</td>\n",
       "      <td>1571</td>\n",
       "      <td>1368</td>\n",
       "      <td>1272</td>\n",
       "      <td>1336</td>\n",
       "      <td>1844</td>\n",
       "      <td>2675</td>\n",
       "      <td>4430</td>\n",
       "      <td>5504</td>\n",
       "      <td>5724</td>\n",
       "      <td>...</td>\n",
       "      <td>5713</td>\n",
       "      <td>6289</td>\n",
       "      <td>6346</td>\n",
       "      <td>6408</td>\n",
       "      <td>5441</td>\n",
       "      <td>4488</td>\n",
       "      <td>3823</td>\n",
       "      <td>3254</td>\n",
       "      <td>2658</td>\n",
       "      <td>2072</td>\n",
       "    </tr>\n",
       "    <tr>\n",
       "      <th>Sat</th>\n",
       "      <td>2447</td>\n",
       "      <td>2059</td>\n",
       "      <td>1883</td>\n",
       "      <td>1592</td>\n",
       "      <td>1451</td>\n",
       "      <td>1580</td>\n",
       "      <td>1880</td>\n",
       "      <td>2489</td>\n",
       "      <td>3457</td>\n",
       "      <td>4315</td>\n",
       "      <td>...</td>\n",
       "      <td>5421</td>\n",
       "      <td>5181</td>\n",
       "      <td>5211</td>\n",
       "      <td>5213</td>\n",
       "      <td>4980</td>\n",
       "      <td>4753</td>\n",
       "      <td>4127</td>\n",
       "      <td>3895</td>\n",
       "      <td>3226</td>\n",
       "      <td>2965</td>\n",
       "    </tr>\n",
       "    <tr>\n",
       "      <th>Sun</th>\n",
       "      <td>2424</td>\n",
       "      <td>2135</td>\n",
       "      <td>1946</td>\n",
       "      <td>1614</td>\n",
       "      <td>1471</td>\n",
       "      <td>1488</td>\n",
       "      <td>1726</td>\n",
       "      <td>2408</td>\n",
       "      <td>3001</td>\n",
       "      <td>3728</td>\n",
       "      <td>...</td>\n",
       "      <td>4744</td>\n",
       "      <td>4475</td>\n",
       "      <td>4560</td>\n",
       "      <td>4505</td>\n",
       "      <td>4402</td>\n",
       "      <td>4135</td>\n",
       "      <td>3748</td>\n",
       "      <td>3161</td>\n",
       "      <td>2629</td>\n",
       "      <td>2323</td>\n",
       "    </tr>\n",
       "    <tr>\n",
       "      <th>Thu</th>\n",
       "      <td>1731</td>\n",
       "      <td>1408</td>\n",
       "      <td>1426</td>\n",
       "      <td>1236</td>\n",
       "      <td>1293</td>\n",
       "      <td>1775</td>\n",
       "      <td>2816</td>\n",
       "      <td>4432</td>\n",
       "      <td>5297</td>\n",
       "      <td>5412</td>\n",
       "      <td>...</td>\n",
       "      <td>6079</td>\n",
       "      <td>6493</td>\n",
       "      <td>6375</td>\n",
       "      <td>6935</td>\n",
       "      <td>5512</td>\n",
       "      <td>4703</td>\n",
       "      <td>4045</td>\n",
       "      <td>3490</td>\n",
       "      <td>2844</td>\n",
       "      <td>2354</td>\n",
       "    </tr>\n",
       "  </tbody>\n",
       "</table>\n",
       "<p>5 rows × 24 columns</p>\n",
       "</div>"
      ],
      "text/plain": [
       "Hour           0     1     2     3     4     5     6     7     8     9   ...  \\\n",
       "Day of Week                                                              ...   \n",
       "Fri          1983  1635  1449  1296  1339  1639  2670  4143  5018  5288  ...   \n",
       "Mon          1894  1571  1368  1272  1336  1844  2675  4430  5504  5724  ...   \n",
       "Sat          2447  2059  1883  1592  1451  1580  1880  2489  3457  4315  ...   \n",
       "Sun          2424  2135  1946  1614  1471  1488  1726  2408  3001  3728  ...   \n",
       "Thu          1731  1408  1426  1236  1293  1775  2816  4432  5297  5412  ...   \n",
       "\n",
       "Hour           14    15    16    17    18    19    20    21    22    23  \n",
       "Day of Week                                                              \n",
       "Fri          6394  7040  7065  7113  5668  5056  4375  3913  3422  2834  \n",
       "Mon          5713  6289  6346  6408  5441  4488  3823  3254  2658  2072  \n",
       "Sat          5421  5181  5211  5213  4980  4753  4127  3895  3226  2965  \n",
       "Sun          4744  4475  4560  4505  4402  4135  3748  3161  2629  2323  \n",
       "Thu          6079  6493  6375  6935  5512  4703  4045  3490  2844  2354  \n",
       "\n",
       "[5 rows x 24 columns]"
      ]
     },
     "execution_count": 28,
     "metadata": {},
     "output_type": "execute_result"
    }
   ],
   "source": [
    "dayHour = df.groupby(by=['Day of Week','Hour']).count()['Reason'].unstack()\n",
    "dayHour.head()"
   ]
  },
  {
   "cell_type": "markdown",
   "id": "ce46d6fd",
   "metadata": {},
   "source": [
    "**Now creating a HeatMap using this new DataFrame.**"
   ]
  },
  {
   "cell_type": "code",
   "execution_count": 29,
   "id": "0bcc5443",
   "metadata": {},
   "outputs": [
    {
     "data": {
      "text/plain": [
       "<AxesSubplot:xlabel='Hour', ylabel='Day of Week'>"
      ]
     },
     "execution_count": 29,
     "metadata": {},
     "output_type": "execute_result"
    },
    {
     "data": {
      "image/png": "[encoded data removed]",
      "text/plain": [
       "<Figure size 1008x576 with 2 Axes>"
      ]
     },
     "metadata": {
      "needs_background": "light"
     },
     "output_type": "display_data"
    }
   ],
   "source": [
    "plt.figure(figsize=(14,8))\n",
    "sns.heatmap(dayHour,cmap='viridis')"
   ]
  },
  {
   "cell_type": "markdown",
   "id": "cb71a139",
   "metadata": {},
   "source": [
    "#### Now creating a clustermap using this DataFrame."
   ]
  },
  {
   "cell_type": "code",
   "execution_count": 30,
   "id": "5aa658fc",
   "metadata": {},
   "outputs": [
    {
     "data": {
      "text/plain": [
       "<seaborn.matrix.ClusterGrid at 0x1e8b66352e0>"
      ]
     },
     "execution_count": 30,
     "metadata": {},
     "output_type": "execute_result"
    },
    {
     "data": {
      "image/png": "[encoded data removed]",
      "text/plain": [
       "<Figure size 720x720 with 4 Axes>"
      ]
     },
     "metadata": {
      "needs_background": "light"
     },
     "output_type": "display_data"
    }
   ],
   "source": [
    "sns.clustermap(dayHour,cmap='viridis')"
   ]
  },
  {
   "cell_type": "markdown",
   "id": "1a5fa6cf",
   "metadata": {},
   "source": [
    "**Now repeating these same plots and operations, for a DataFrame that shows the Month as the column.**"
   ]
  },
  {
   "cell_type": "code",
   "execution_count": 31,
   "id": "8d418967",
   "metadata": {},
   "outputs": [
    {
     "data": {
      "text/html": [
       "<div>\n",
       "<style scoped>\n",
       "    .dataframe tbody tr th:only-of-type {\n",
       "        vertical-align: middle;\n",
       "    }\n",
       "\n",
       "    .dataframe tbody tr th {\n",
       "        vertical-align: top;\n",
       "    }\n",
       "\n",
       "    .dataframe thead th {\n",
       "        text-align: right;\n",
       "    }\n",
       "</style>\n",
       "<table border=\"1\" class=\"dataframe\">\n",
       "  <thead>\n",
       "    <tr style=\"text-align: right;\">\n",
       "      <th>Month</th>\n",
       "      <th>1</th>\n",
       "      <th>2</th>\n",
       "      <th>3</th>\n",
       "      <th>4</th>\n",
       "      <th>5</th>\n",
       "      <th>6</th>\n",
       "      <th>7</th>\n",
       "      <th>8</th>\n",
       "      <th>9</th>\n",
       "      <th>10</th>\n",
       "      <th>11</th>\n",
       "      <th>12</th>\n",
       "    </tr>\n",
       "    <tr>\n",
       "      <th>Day of Week</th>\n",
       "      <th></th>\n",
       "      <th></th>\n",
       "      <th></th>\n",
       "      <th></th>\n",
       "      <th></th>\n",
       "      <th></th>\n",
       "      <th></th>\n",
       "      <th></th>\n",
       "      <th></th>\n",
       "      <th></th>\n",
       "      <th></th>\n",
       "      <th></th>\n",
       "    </tr>\n",
       "  </thead>\n",
       "  <tbody>\n",
       "    <tr>\n",
       "      <th>Fri</th>\n",
       "      <td>9309</td>\n",
       "      <td>8255</td>\n",
       "      <td>10941</td>\n",
       "      <td>7997</td>\n",
       "      <td>8904</td>\n",
       "      <td>9207</td>\n",
       "      <td>8681</td>\n",
       "      <td>7336</td>\n",
       "      <td>7694</td>\n",
       "      <td>6934</td>\n",
       "      <td>8379</td>\n",
       "      <td>9305</td>\n",
       "    </tr>\n",
       "    <tr>\n",
       "      <th>Mon</th>\n",
       "      <td>8896</td>\n",
       "      <td>8747</td>\n",
       "      <td>8060</td>\n",
       "      <td>8410</td>\n",
       "      <td>7881</td>\n",
       "      <td>8511</td>\n",
       "      <td>9499</td>\n",
       "      <td>6854</td>\n",
       "      <td>6598</td>\n",
       "      <td>8075</td>\n",
       "      <td>6722</td>\n",
       "      <td>8492</td>\n",
       "    </tr>\n",
       "    <tr>\n",
       "      <th>Sat</th>\n",
       "      <td>8475</td>\n",
       "      <td>7593</td>\n",
       "      <td>8050</td>\n",
       "      <td>7514</td>\n",
       "      <td>7223</td>\n",
       "      <td>8198</td>\n",
       "      <td>7748</td>\n",
       "      <td>6111</td>\n",
       "      <td>6566</td>\n",
       "      <td>6609</td>\n",
       "      <td>6773</td>\n",
       "      <td>8592</td>\n",
       "    </tr>\n",
       "    <tr>\n",
       "      <th>Sun</th>\n",
       "      <td>7478</td>\n",
       "      <td>6452</td>\n",
       "      <td>6766</td>\n",
       "      <td>6865</td>\n",
       "      <td>6694</td>\n",
       "      <td>6837</td>\n",
       "      <td>7859</td>\n",
       "      <td>5275</td>\n",
       "      <td>5956</td>\n",
       "      <td>6316</td>\n",
       "      <td>5196</td>\n",
       "      <td>7165</td>\n",
       "    </tr>\n",
       "    <tr>\n",
       "      <th>Thu</th>\n",
       "      <td>9055</td>\n",
       "      <td>7997</td>\n",
       "      <td>8849</td>\n",
       "      <td>7722</td>\n",
       "      <td>8740</td>\n",
       "      <td>9489</td>\n",
       "      <td>8378</td>\n",
       "      <td>7508</td>\n",
       "      <td>6954</td>\n",
       "      <td>7482</td>\n",
       "      <td>8358</td>\n",
       "      <td>8151</td>\n",
       "    </tr>\n",
       "  </tbody>\n",
       "</table>\n",
       "</div>"
      ],
      "text/plain": [
       "Month          1     2      3     4     5     6     7     8     9     10  \\\n",
       "Day of Week                                                                \n",
       "Fri          9309  8255  10941  7997  8904  9207  8681  7336  7694  6934   \n",
       "Mon          8896  8747   8060  8410  7881  8511  9499  6854  6598  8075   \n",
       "Sat          8475  7593   8050  7514  7223  8198  7748  6111  6566  6609   \n",
       "Sun          7478  6452   6766  6865  6694  6837  7859  5275  5956  6316   \n",
       "Thu          9055  7997   8849  7722  8740  9489  8378  7508  6954  7482   \n",
       "\n",
       "Month          11    12  \n",
       "Day of Week              \n",
       "Fri          8379  9305  \n",
       "Mon          6722  8492  \n",
       "Sat          6773  8592  \n",
       "Sun          5196  7165  \n",
       "Thu          8358  8151  "
      ]
     },
     "execution_count": 31,
     "metadata": {},
     "output_type": "execute_result"
    }
   ],
   "source": [
    "dayMonth = df.groupby(by=['Day of Week','Month']).count()['Reason'].unstack()\n",
    "dayMonth.head()"
   ]
  },
  {
   "cell_type": "code",
   "execution_count": 32,
   "id": "46035899",
   "metadata": {},
   "outputs": [],
   "source": [
    "month=df.pivot_table(index='Day of Week',columns='Month',values='Hour')"
   ]
  },
  {
   "cell_type": "code",
   "execution_count": 33,
   "id": "7e68f211",
   "metadata": {},
   "outputs": [
    {
     "data": {
      "text/html": [
       "<div>\n",
       "<style scoped>\n",
       "    .dataframe tbody tr th:only-of-type {\n",
       "        vertical-align: middle;\n",
       "    }\n",
       "\n",
       "    .dataframe tbody tr th {\n",
       "        vertical-align: top;\n",
       "    }\n",
       "\n",
       "    .dataframe thead th {\n",
       "        text-align: right;\n",
       "    }\n",
       "</style>\n",
       "<table border=\"1\" class=\"dataframe\">\n",
       "  <thead>\n",
       "    <tr style=\"text-align: right;\">\n",
       "      <th>Month</th>\n",
       "      <th>1</th>\n",
       "      <th>2</th>\n",
       "      <th>3</th>\n",
       "      <th>4</th>\n",
       "      <th>5</th>\n",
       "      <th>6</th>\n",
       "      <th>7</th>\n",
       "      <th>8</th>\n",
       "      <th>9</th>\n",
       "      <th>10</th>\n",
       "      <th>11</th>\n",
       "      <th>12</th>\n",
       "    </tr>\n",
       "    <tr>\n",
       "      <th>Day of Week</th>\n",
       "      <th></th>\n",
       "      <th></th>\n",
       "      <th></th>\n",
       "      <th></th>\n",
       "      <th></th>\n",
       "      <th></th>\n",
       "      <th></th>\n",
       "      <th></th>\n",
       "      <th></th>\n",
       "      <th></th>\n",
       "      <th></th>\n",
       "      <th></th>\n",
       "    </tr>\n",
       "  </thead>\n",
       "  <tbody>\n",
       "    <tr>\n",
       "      <th>Fri</th>\n",
       "      <td>13.024707</td>\n",
       "      <td>13.192853</td>\n",
       "      <td>13.581482</td>\n",
       "      <td>13.320120</td>\n",
       "      <td>13.265836</td>\n",
       "      <td>13.379059</td>\n",
       "      <td>13.137427</td>\n",
       "      <td>13.296074</td>\n",
       "      <td>13.086951</td>\n",
       "      <td>13.377127</td>\n",
       "      <td>12.941162</td>\n",
       "      <td>13.367974</td>\n",
       "    </tr>\n",
       "    <tr>\n",
       "      <th>Mon</th>\n",
       "      <td>12.861398</td>\n",
       "      <td>12.505659</td>\n",
       "      <td>12.662283</td>\n",
       "      <td>12.779667</td>\n",
       "      <td>12.938206</td>\n",
       "      <td>12.927153</td>\n",
       "      <td>13.258764</td>\n",
       "      <td>12.835570</td>\n",
       "      <td>12.787208</td>\n",
       "      <td>12.800495</td>\n",
       "      <td>13.014281</td>\n",
       "      <td>13.011540</td>\n",
       "    </tr>\n",
       "    <tr>\n",
       "      <th>Sat</th>\n",
       "      <td>13.028201</td>\n",
       "      <td>13.217832</td>\n",
       "      <td>12.766460</td>\n",
       "      <td>13.251397</td>\n",
       "      <td>13.038073</td>\n",
       "      <td>13.373750</td>\n",
       "      <td>13.322148</td>\n",
       "      <td>12.973000</td>\n",
       "      <td>13.113006</td>\n",
       "      <td>13.221516</td>\n",
       "      <td>13.035435</td>\n",
       "      <td>13.189013</td>\n",
       "    </tr>\n",
       "    <tr>\n",
       "      <th>Sun</th>\n",
       "      <td>12.350629</td>\n",
       "      <td>12.977526</td>\n",
       "      <td>13.155927</td>\n",
       "      <td>12.631755</td>\n",
       "      <td>12.915596</td>\n",
       "      <td>13.118034</td>\n",
       "      <td>12.990202</td>\n",
       "      <td>12.829005</td>\n",
       "      <td>12.783076</td>\n",
       "      <td>12.972768</td>\n",
       "      <td>12.591609</td>\n",
       "      <td>12.806560</td>\n",
       "    </tr>\n",
       "    <tr>\n",
       "      <th>Thu</th>\n",
       "      <td>12.837327</td>\n",
       "      <td>12.725897</td>\n",
       "      <td>12.922590</td>\n",
       "      <td>13.273893</td>\n",
       "      <td>13.051144</td>\n",
       "      <td>12.845611</td>\n",
       "      <td>13.518262</td>\n",
       "      <td>13.065663</td>\n",
       "      <td>13.150417</td>\n",
       "      <td>13.058407</td>\n",
       "      <td>13.264298</td>\n",
       "      <td>13.099620</td>\n",
       "    </tr>\n",
       "  </tbody>\n",
       "</table>\n",
       "</div>"
      ],
      "text/plain": [
       "Month               1          2          3          4          5          6   \\\n",
       "Day of Week                                                                     \n",
       "Fri          13.024707  13.192853  13.581482  13.320120  13.265836  13.379059   \n",
       "Mon          12.861398  12.505659  12.662283  12.779667  12.938206  12.927153   \n",
       "Sat          13.028201  13.217832  12.766460  13.251397  13.038073  13.373750   \n",
       "Sun          12.350629  12.977526  13.155927  12.631755  12.915596  13.118034   \n",
       "Thu          12.837327  12.725897  12.922590  13.273893  13.051144  12.845611   \n",
       "\n",
       "Month               7          8          9          10         11         12  \n",
       "Day of Week                                                                    \n",
       "Fri          13.137427  13.296074  13.086951  13.377127  12.941162  13.367974  \n",
       "Mon          13.258764  12.835570  12.787208  12.800495  13.014281  13.011540  \n",
       "Sat          13.322148  12.973000  13.113006  13.221516  13.035435  13.189013  \n",
       "Sun          12.990202  12.829005  12.783076  12.972768  12.591609  12.806560  \n",
       "Thu          13.518262  13.065663  13.150417  13.058407  13.264298  13.099620  "
      ]
     },
     "execution_count": 33,
     "metadata": {},
     "output_type": "execute_result"
    }
   ],
   "source": [
    "month.head()"
   ]
  },
  {
   "cell_type": "code",
   "execution_count": 34,
   "id": "0ce08922",
   "metadata": {},
   "outputs": [
    {
     "data": {
      "text/plain": [
       "<AxesSubplot:xlabel='Month', ylabel='Day of Week'>"
      ]
     },
     "execution_count": 34,
     "metadata": {},
     "output_type": "execute_result"
    },
    {
     "data": {
      "image/png": "[encoded data removed]",
      "text/plain": [
       "<Figure size 1008x576 with 2 Axes>"
      ]
     },
     "metadata": {
      "needs_background": "light"
     },
     "output_type": "display_data"
    }
   ],
   "source": [
    "plt.figure(figsize=(14,8))\n",
    "sns.heatmap(dayMonth,cmap='viridis')"
   ]
  },
  {
   "cell_type": "code",
   "execution_count": 35,
   "id": "ba088f99",
   "metadata": {},
   "outputs": [
    {
     "data": {
      "text/plain": [
       "<seaborn.matrix.ClusterGrid at 0x1e8b690ec40>"
      ]
     },
     "execution_count": 35,
     "metadata": {},
     "output_type": "execute_result"
    },
    {
     "data": {
      "image/png": "[encoded data removed]",
      "text/plain": [
       "<Figure size 720x720 with 4 Axes>"
      ]
     },
     "metadata": {
      "needs_background": "light"
     },
     "output_type": "display_data"
    }
   ],
   "source": [
    "sns.clustermap(dayMonth,cmap='viridis')"
   ]
  },
  {
   "cell_type": "markdown",
   "id": "6e9da92a",
   "metadata": {},
   "source": [
    "# Thank You!"
   ]
  }
 ],
 "metadata": {
  "kernelspec": {
   "display_name": "Python 3 (ipykernel)",
   "language": "python",
   "name": "python3"
  },
  "language_info": {
   "codemirror_mode": {
    "name": "ipython",
    "version": 3
   },
   "file_extension": ".py",
   "mimetype": "text/x-python",
   "name": "python",
   "nbconvert_exporter": "python",
   "pygments_lexer": "ipython3",
   "version": "3.9.6"
  }
 },
 "nbformat": 4,
 "nbformat_minor": 5
}
