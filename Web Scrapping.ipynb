{
 "cells": [
  {
   "cell_type": "markdown",
   "id": "7f9a2fdf",
   "metadata": {},
   "source": [
    "# WEB SCRAPING"
   ]
  },
  {
   "cell_type": "code",
   "execution_count": 4,
   "id": "68bf87be",
   "metadata": {},
   "outputs": [],
   "source": [
    "import csv\n",
    "from bs4 import BeautifulSoup"
   ]
  },
  {
   "cell_type": "code",
   "execution_count": 5,
   "id": "9496a738",
   "metadata": {},
   "outputs": [],
   "source": [
    "from selenium import webdriver"
   ]
  },
  {
   "cell_type": "markdown",
   "id": "d61e1260",
   "metadata": {},
   "source": [
    "## Starting the webdriver"
   ]
  },
  {
   "cell_type": "code",
   "execution_count": 163,
   "id": "1200c7a2",
   "metadata": {},
   "outputs": [
    {
     "name": "stdout",
     "output_type": "stream",
     "text": [
      "Requirement already satisfied: webdriver-manager in e:\\python\\lib\\site-packages (3.5.1)Note: you may need to restart the kernel to use updated packages.\n",
      "Requirement already satisfied: configparser in e:\\python\\lib\\site-packages (from webdriver-manager) (5.0.2)\n",
      "Requirement already satisfied: requests in e:\\python\\lib\\site-packages (from webdriver-manager) (2.26.0)\n",
      "Requirement already satisfied: crayons in e:\\python\\lib\\site-packages (from webdriver-manager) (0.4.0)\n",
      "Requirement already satisfied: colorama in e:\\python\\lib\\site-packages (from crayons->webdriver-manager) (0.4.4)\n",
      "Requirement already satisfied: idna<4,>=2.5 in e:\\python\\lib\\site-packages (from requests->webdriver-manager) (3.2)\n",
      "Requirement already satisfied: charset-normalizer~=2.0.0 in e:\\python\\lib\\site-packages (from requests->webdriver-manager) (2.0.4)\n",
      "Requirement already satisfied: certifi>=2017.4.17 in e:\\python\\lib\\site-packages (from requests->webdriver-manager) (2021.5.30)\n",
      "Requirement already satisfied: urllib3<1.27,>=1.21.1 in e:\\python\\lib\\site-packages (from requests->webdriver-manager) (1.26.6)\n",
      "\n"
     ]
    },
    {
     "name": "stderr",
     "output_type": "stream",
     "text": [
      "WARNING: Ignoring invalid distribution -ip (e:\\python\\lib\\site-packages)\n",
      "WARNING: Ignoring invalid distribution -ip (e:\\python\\lib\\site-packages)\n",
      "WARNING: Ignoring invalid distribution -ip (e:\\python\\lib\\site-packages)\n",
      "WARNING: Ignoring invalid distribution -ip (e:\\python\\lib\\site-packages)\n",
      "WARNING: Ignoring invalid distribution -ip (e:\\python\\lib\\site-packages)\n"
     ]
    }
   ],
   "source": [
    "pip install webdriver-manager"
   ]
  },
  {
   "cell_type": "code",
   "execution_count": 109,
   "id": "d618e151",
   "metadata": {
    "scrolled": true
   },
   "outputs": [
    {
     "name": "stderr",
     "output_type": "stream",
     "text": [
      "[WDM] - \n",
      "\n",
      "[WDM] - ====== WebDriver manager ======\n",
      "[WDM] - Current google-chrome version is 94.0.4606\n",
      "[WDM] - Get LATEST driver version for 94.0.4606\n",
      "[WDM] - Driver [C:\\Users\\ACER\\.wdm\\drivers\\chromedriver\\win32\\94.0.4606.61\\chromedriver.exe] found in cache\n"
     ]
    }
   ],
   "source": [
    "#for Chrome\n",
    "from webdriver_manager.chrome import ChromeDriverManager\n",
    "\n",
    "driver = webdriver.Chrome(ChromeDriverManager().install())"
   ]
  },
  {
   "cell_type": "code",
   "execution_count": 110,
   "id": "c28635f1",
   "metadata": {},
   "outputs": [],
   "source": [
    "url = 'https://www.flipkart.com/'\n",
    "driver.get(url)"
   ]
  },
  {
   "cell_type": "code",
   "execution_count": 111,
   "id": "745da63d",
   "metadata": {},
   "outputs": [],
   "source": [
    "def get_url(search_term):\n",
    "    \"\"\"Generates a url from search term\"\"\"\n",
    "    template = 'https://www.flipkart.com/search?q={}&otracker=search&otracker1=search&marketplace=FLIPKART&as-show=on&as=off'\n",
    "    search_term = search_term.replace(' ', '+')\n",
    "    return template.format(search_term)"
   ]
  },
  {
   "cell_type": "code",
   "execution_count": 112,
   "id": "ea4d9be9",
   "metadata": {},
   "outputs": [
    {
     "name": "stdout",
     "output_type": "stream",
     "text": [
      "https://www.flipkart.com/search?q=laptop&otracker=search&otracker1=search&marketplace=FLIPKART&as-show=on&as=off\n"
     ]
    }
   ],
   "source": [
    "url = get_url('laptop')\n",
    "print(url)"
   ]
  },
  {
   "cell_type": "code",
   "execution_count": 113,
   "id": "f777aea1",
   "metadata": {},
   "outputs": [],
   "source": [
    "driver.get(url)"
   ]
  },
  {
   "cell_type": "markdown",
   "id": "5fdfdeef",
   "metadata": {},
   "source": [
    "## Extracting the data"
   ]
  },
  {
   "cell_type": "code",
   "execution_count": 114,
   "id": "5dd3a52c",
   "metadata": {},
   "outputs": [],
   "source": [
    "soup = BeautifulSoup(driver.page_source, 'html.parser')"
   ]
  },
  {
   "cell_type": "code",
   "execution_count": 115,
   "id": "acc4d3aa",
   "metadata": {},
   "outputs": [],
   "source": [
    "results = soup.find_all('div', {'class': '_2kHMtA'})"
   ]
  },
  {
   "cell_type": "code",
   "execution_count": 116,
   "id": "afc464af",
   "metadata": {},
   "outputs": [
    {
     "data": {
      "text/plain": [
       "24"
      ]
     },
     "execution_count": 116,
     "metadata": {},
     "output_type": "execute_result"
    }
   ],
   "source": [
    "len(results)"
   ]
  },
  {
   "cell_type": "markdown",
   "id": "24d2bd90",
   "metadata": {},
   "source": [
    "## Prototype the record"
   ]
  },
  {
   "cell_type": "code",
   "execution_count": 117,
   "id": "71c36708",
   "metadata": {},
   "outputs": [],
   "source": [
    "item = results[5]"
   ]
  },
  {
   "cell_type": "code",
   "execution_count": 118,
   "id": "dd1ea330",
   "metadata": {},
   "outputs": [],
   "source": [
    "atag = item.find('div', {'class':'_4rR01T'})"
   ]
  },
  {
   "cell_type": "code",
   "execution_count": 119,
   "id": "5da0e450",
   "metadata": {},
   "outputs": [],
   "source": [
    "Item_Name = atag.text.strip().replace('\\n','')"
   ]
  },
  {
   "cell_type": "code",
   "execution_count": 120,
   "id": "74a8f9f0",
   "metadata": {},
   "outputs": [],
   "source": [
    "price = item.find('div', {'class':'_30jeq3 _1_WHN1'}).text.replace('\\n','')"
   ]
  },
  {
   "cell_type": "code",
   "execution_count": 121,
   "id": "ef46e0e4",
   "metadata": {},
   "outputs": [],
   "source": [
    "rating = item.find('div', {'class':'_3LWZlK'}).text.replace('\\n','')"
   ]
  },
  {
   "cell_type": "code",
   "execution_count": 122,
   "id": "620cbe56",
   "metadata": {},
   "outputs": [],
   "source": [
    "def extract_record(item):\n",
    "    \"\"\"Extracting and returning data from a single record\"\"\"\n",
    "    \n",
    "    #Name of the product and description\n",
    "    atag = item.find('div', {'class':'_4rR01T'})\n",
    "    Item_Name = atag.text.strip().replace('\\n','')\n",
    "    \n",
    "    #price\n",
    "    price = item.find('div', {'class':'_30jeq3 _1_WHN1'}).text.replace('\\n','')\n",
    "    \n",
    "    #rating out of 5\n",
    "    rating = item.find('div', {'class':'_3LWZlK'}).text.replace('\\n','')\n",
    "    \n",
    "    result = (Item_Name,price,rating)\n",
    "    \n",
    "    return result"
   ]
  },
  {
   "cell_type": "markdown",
   "id": "98f2a163",
   "metadata": {},
   "source": [
    "## Error Handling"
   ]
  },
  {
   "cell_type": "code",
   "execution_count": 123,
   "id": "fcf8f2c1",
   "metadata": {},
   "outputs": [],
   "source": [
    "def extract_record(item):\n",
    "    \"\"\"Extracting and returning data from a single record\"\"\"\n",
    "    \n",
    "    #Name of the product and description\n",
    "    atag = item.find('div', {'class':'_4rR01T'})\n",
    "    Item_Name = atag.text.strip().replace('\\n','')\n",
    "    \n",
    "    try:\n",
    "        #price\n",
    "        price = item.find('div', {'class':'_30jeq3 _1_WHN1'}).text.replace('\\n','')\n",
    "    except AttributeError:\n",
    "        return\n",
    "    \n",
    "    try:\n",
    "        #rating\n",
    "        rating = item.find('div', {'class':'_3LWZlK'}).text.replace('\\n','')\n",
    "    except AttributeError:\n",
    "        return\n",
    "\n",
    "    \n",
    "    result = (Item_Name,price,rating)\n",
    "    \n",
    "    return result"
   ]
  },
  {
   "cell_type": "code",
   "execution_count": 124,
   "id": "9f4341e7",
   "metadata": {},
   "outputs": [],
   "source": [
    "records = []\n",
    "results = soup.find_all('div', {'class': '_2kHMtA'})\n",
    "\n",
    "for item in results:\n",
    "    record = extract_record(item)\n",
    "    if record:\n",
    "        records.append(record)"
   ]
  },
  {
   "cell_type": "code",
   "execution_count": 125,
   "id": "75cfa65a",
   "metadata": {},
   "outputs": [
    {
     "data": {
      "text/plain": [
       "('DELL Vostro Core i5 11th Gen - (8 GB/1 TB HDD/Windows 10 Home) Vostro 3400 Thin and Light Laptop',\n",
       " '₹48,990',\n",
       " '3.8')"
      ]
     },
     "execution_count": 125,
     "metadata": {},
     "output_type": "execute_result"
    }
   ],
   "source": [
    "records[0]"
   ]
  },
  {
   "cell_type": "code",
   "execution_count": 126,
   "id": "87342cc0",
   "metadata": {},
   "outputs": [
    {
     "name": "stdout",
     "output_type": "stream",
     "text": [
      "DELL Vostro Core i5 11th Gen - (8 GB/1 TB HDD/Windows 10 Home) Vostro 3400 Thin and Light Laptop\n",
      "DELL Core i3 11th Gen - (8 GB/256 GB SSD/Windows 10) Inspiron 5410 2 In1 2 in 1 Laptop\n",
      "acer Dual Core A3020e - (4 GB/256 GB SSD/Windows 10 Home) EX215-22 Laptop\n",
      "ASUS VivoBook Ultra 14 Core i3 11th Gen - (8 GB/512 GB SSD/Windows 10 Home) X413EA-EB321TS Thin and Li...\n",
      "acer Aspire 7 Core i5 10th Gen - (8 GB/512 GB SSD/Windows 10 Home/4 GB Graphics/NVIDIA GeForce GTX 165...\n",
      "HP Core i3 11th Gen - (8 GB/256 GB SSD/Windows 10 Home) 14s-DQ2100TU Thin and Light Laptop\n",
      "Lenovo IdeaPad 3 Core i3 10th Gen - (8 GB/256 GB SSD/Windows 10 Home) 15IML05 Thin and Light Laptop\n",
      "DELL Inspiron Core i3 11th Gen - (8 GB/512 GB SSD/Windows 10) Inspiron 5410 2 in 1 Laptop\n",
      "ASUS TUF Gaming F15 Core i5 10th Gen - (8 GB/512 GB SSD/Windows 10 Home/4 GB Graphics/NVIDIA GeForce G...\n",
      "HP Pavilion Ryzen 5 Hexa Core 5600H - (8 GB/512 GB SSD/Windows 10 Home/4 GB Graphics/NVIDIA GeForce GT...\n",
      "DELL Vostro Core i3 10th Gen - (8 GB/256 GB SSD/Windows 10 Home) Vostro 3401 Thin and Light Laptop\n",
      "DELL Inspiron Core i5 11th Gen - (16 GB/512 GB SSD/Windows 10/2 GB Graphics) Inspiron 7400 Thin and Li...\n",
      "ASUS VivoBook 15 Core i3 7th Gen - (4 GB/1 TB HDD/Windows 10 Home) X543UA-DM341T Laptop\n",
      "ASUS Core i3 10th Gen - (4 GB + 32 GB Optane/512 GB SSD/Windows 10 Home) X515JA-EJ372TS Thin and Light...\n",
      "DELL Vostro Core i3 11th Gen - (8 GB/256 GB SSD/Windows 10) Vostro 3400 Thin and Light Laptop\n",
      "DELL Vostro Core i5 11th Gen - (8 GB/512 GB SSD/Windows 10/2 GB Graphics) Vostro 3400 Thin and Light L...\n",
      "ASUS Core i3 11th Gen - (8 GB/512 GB SSD/Windows 10 Home) K413EA-EB303TS Thin and Light Laptop\n",
      "acer Aspire 5 Core i5 11th Gen - (8 GB/1 TB HDD/256 GB SSD/Windows 10 Home) A515-56 Thin and Light Lap...\n",
      "Lenovo IdeaPad 3 Core i3 10th Gen - (4 GB/256 GB, NA SSD/Windows 10 Home) 15IML05 Thin and Light Lapto...\n",
      "DELL Inspiron Core i5 11th Gen - (4 GB/1 TB HDD/256 GB SSD/Windows 10 Home) Inspiron 3501 Thin and Lig...\n",
      "ASUS Core i5 10th Gen - (8 GB + 32 GB Optane/512 GB SSD/Windows 10 Home) X515JA-EJ562TS Thin and Light...\n",
      "HP HP Pavilion Ryzen 5 Hexa Core 4600H - (8 GB/512 GB SSD/Windows 10 Home/4 GB Graphics/NVIDIA GeForce...\n",
      "ASUS Pentium Silver - (8 GB/256 GB SSD/Windows 10 Home) E410MA-EK103TS Thin and Light Laptop\n"
     ]
    }
   ],
   "source": [
    "for row in records:\n",
    "    print(row[0])"
   ]
  },
  {
   "cell_type": "markdown",
   "id": "59c78bd5",
   "metadata": {},
   "source": [
    "## Importing Extracted data to csv file"
   ]
  },
  {
   "cell_type": "code",
   "execution_count": 127,
   "id": "06f46470",
   "metadata": {},
   "outputs": [],
   "source": [
    "import csv\n",
    "from bs4 import BeautifulSoup\n",
    "from selenium import webdriver\n",
    "\n",
    "def extract_record(item):\n",
    "    \"\"\"Extracting and returning data from a single record\"\"\"\n",
    "    \n",
    "    #Name of the product and description\n",
    "    atag = item.find('div', {'class':'_4rR01T'})\n",
    "    Item_Name = atag.text.strip().replace('\\n','')\n",
    "    \n",
    "    #price\n",
    "    price = item.find('div', {'class':'_30jeq3 _1_WHN1'}).text.replace('\\n','')\n",
    "    \n",
    "    #rating out of 5\n",
    "    rating = item.find('div', {'class':'_3LWZlK'}).text.replace('\\n','')\n",
    "    \n",
    "    result = (Item_Name,price,rating)\n",
    "    \n",
    "    return result\n",
    "\n",
    "def main(search_term):\n",
    "    \"\"\"Run main program routine\"\"\"\n",
    "    # start the webdriver\n",
    "    from webdriver_manager.chrome import ChromeDriverManager\n",
    "    \n",
    "    records = []\n",
    "    url = get_url(search_term)\n",
    "    \n",
    "    driver.get(url)\n",
    "    soup = BeautifulSoup(driver.page_source, 'html.parser')\n",
    "    results = soup.find_all('div', {'class': '_2kHMtA'})\n",
    "    \n",
    "    for item in results:\n",
    "        record = extract_record(item)\n",
    "        if record:\n",
    "            records.append(record)\n",
    "\n",
    "    driver.close()\n",
    "    \n",
    "    \n",
    "    # save data to csv file\n",
    "    with open('Web_Scrapping.csv', 'w', newline='', encoding='utf-8') as f:\n",
    "        writer = csv.writer(f)\n",
    "        header = ['Item_Name','Price','Rating']\n",
    "        writer.writerow(header)\n",
    "        writer.writerows(records)"
   ]
  },
  {
   "cell_type": "code",
   "execution_count": 128,
   "id": "43389a60",
   "metadata": {},
   "outputs": [],
   "source": [
    "main('laptop')"
   ]
  },
  {
   "cell_type": "code",
   "execution_count": null,
   "id": "6bc1ab69",
   "metadata": {},
   "outputs": [],
   "source": []
  },
  {
   "cell_type": "code",
   "execution_count": null,
   "id": "60b51fc4",
   "metadata": {},
   "outputs": [],
   "source": []
  }
 ],
 "metadata": {
  "kernelspec": {
   "display_name": "Python 3 (ipykernel)",
   "language": "python",
   "name": "python3"
  },
  "language_info": {
   "codemirror_mode": {
    "name": "ipython",
    "version": 3
   },
   "file_extension": ".py",
   "mimetype": "text/x-python",
   "name": "python",
   "nbconvert_exporter": "python",
   "pygments_lexer": "ipython3",
   "version": "3.9.6"
  }
 },
 "nbformat": 4,
 "nbformat_minor": 5
}
