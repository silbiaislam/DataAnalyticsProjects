{
 "cells": [
  {
   "cell_type": "markdown",
   "id": "fddc29c8",
   "metadata": {},
   "source": [
    "#### Analysis of Delinquency Cases' Remarks\n",
    "\n",
    "*In this analysis, I've examined the remarks collected from various delinquency cases to identify potential reasons contributing to the issues. The remarks provide insights into what might have gone wrong in these cases, allowing to draw meaningful conclusions, if any.*\n",
    "\n",
    "#### Data Sensitivity\n",
    "\n",
    "*As the data used for this analysis contains sensitive information related to delinquency cases, the chart and data outputs from this description have been omitted to ensure data privacy and confidentiality.*\n"
   ]
  },
  {
   "cell_type": "code",
   "execution_count": 6,
   "id": "5a05ff61",
   "metadata": {},
   "outputs": [],
   "source": [
    "import pandas as pd"
   ]
  },
  {
   "cell_type": "code",
   "execution_count": 12,
   "id": "b661817e",
   "metadata": {},
   "outputs": [],
   "source": [
    "import warnings\n",
    "\n",
    "# Filtering the warning by matching the warning message\n",
    "warnings.filterwarnings(\"ignore\", message=\"Unknown extension is not supported and will be removed\")\n"
   ]
  },
  {
   "cell_type": "code",
   "execution_count": 13,
   "id": "10b37276",
   "metadata": {},
   "outputs": [],
   "source": [
    "data = pd.read_excel('xxx.xlsx')"
   ]
  },
  {
   "cell_type": "code",
   "execution_count": null,
   "id": "e913168e",
   "metadata": {},
   "outputs": [],
   "source": [
    "print(data)"
   ]
  },
  {
   "cell_type": "code",
   "execution_count": 15,
   "id": "519de2ed",
   "metadata": {},
   "outputs": [],
   "source": [
    "remarks = data['Remarks']"
   ]
  },
  {
   "cell_type": "code",
   "execution_count": 16,
   "id": "f4587664",
   "metadata": {},
   "outputs": [],
   "source": [
    "remarks_df = pd.DataFrame(remarks)"
   ]
  },
  {
   "cell_type": "code",
   "execution_count": 18,
   "id": "b9d66f0d",
   "metadata": {},
   "outputs": [],
   "source": [
    "remarks_df = remarks_df.dropna(subset=['Remarks'])"
   ]
  },
  {
   "cell_type": "code",
   "execution_count": null,
   "id": "46349f6d",
   "metadata": {},
   "outputs": [],
   "source": [
    "print(remarks_df)"
   ]
  },
  {
   "cell_type": "code",
   "execution_count": 20,
   "id": "355255b4",
   "metadata": {},
   "outputs": [],
   "source": [
    "from collections import Counter\n",
    "import re"
   ]
  },
  {
   "cell_type": "code",
   "execution_count": null,
   "id": "ea67c467",
   "metadata": {},
   "outputs": [],
   "source": [
    "def words_frequency(dataframe, column_name):\n",
    "    all_remarks_text = ' '.join(dataframe[column_name])\n",
    "    \n",
    "    print(all_remarks_text)\n",
    "\n",
    "    words = re.findall(r'\\w+', all_remarks_text.lower())\n",
    "\n",
    "    print(words)\n",
    "\n",
    "    word_counts = Counter(words)\n",
    "\n",
    "    print(word_counts)\n",
    "    \n",
    "    most_common_words = word_counts.most_common()\n",
    "    \n",
    "    print(most_common_words)\n",
    "\n",
    "    return most_common_words\n",
    "\n",
    "most_common_words = words_frequency(remarks_df, 'Remarks')\n",
    "\n",
    "print(most_common_words[:50])"
   ]
  },
  {
   "cell_type": "code",
   "execution_count": null,
   "id": "7f291969",
   "metadata": {},
   "outputs": [],
   "source": [
    "print(most_common_words)"
   ]
  },
  {
   "cell_type": "code",
   "execution_count": 36,
   "id": "6e20bd2a",
   "metadata": {},
   "outputs": [],
   "source": [
    "import matplotlib.pyplot as plt"
   ]
  },
  {
   "cell_type": "code",
   "execution_count": null,
   "id": "ca85908e",
   "metadata": {},
   "outputs": [],
   "source": [
    "def plot_most_common_words(dataframe, column_name, words_to_plot):\n",
    "    selected_words = []\n",
    "    selected_counts = []\n",
    "    for word, count in most_common_words:\n",
    "        if word in words_to_plot:\n",
    "            selected_words.append(word)\n",
    "            selected_counts.append(count)       \n",
    "    \n",
    "    # bar plot\n",
    "    plt.figure(figsize=(10, 6))\n",
    "    bars = plt.bar(selected_words, selected_counts)\n",
    "    plt.xlabel('Words')\n",
    "    plt.ylabel('Counts')\n",
    "    plt.title('Most Common Words')\n",
    "    plt.xticks(rotation=45)\n",
    "\n",
    "    # Annotating the bars with their counts\n",
    "    for bar in bars:\n",
    "        height = bar.get_height()\n",
    "        plt.annotate('{}'.format(height),\n",
    "                     xy=(bar.get_x() + bar.get_width() / 2, height),\n",
    "                     xytext=(0, 3),  # 3 points vertical offset\n",
    "                     textcoords=\"offset points\",\n",
    "                     ha='center', va='bottom')\n",
    "\n",
    "    plt.tight_layout()\n",
    "    plt.show()\n",
    "\n",
    "words_to_plot = ['word','word','word']  # Adding the words to plot\n",
    "plot_most_common_words(remarks_df, 'Remarks', words_to_plot)\n"
   ]
  }
 ],
 "metadata": {
  "kernelspec": {
   "display_name": "Python 3 (ipykernel)",
   "language": "python",
   "name": "python3"
  },
  "language_info": {
   "codemirror_mode": {
    "name": "ipython",
    "version": 3
   },
   "file_extension": ".py",
   "mimetype": "text/x-python",
   "name": "python",
   "nbconvert_exporter": "python",
   "pygments_lexer": "ipython3",
   "version": "3.10.9"
  }
 },
 "nbformat": 4,
 "nbformat_minor": 5
}
