{
 "cells": [
  {
   "cell_type": "code",
   "execution_count": 1,
   "id": "6f8b8336",
   "metadata": {},
   "outputs": [
    {
     "name": "stdout",
     "output_type": "stream",
     "text": [
      "Requirement already satisfied: pandas in c:\\users\\nc24281_silbia\\anaconda3\\lib\\site-packages (1.5.3)Note: you may need to restart the kernel to use updated packages.\n",
      "\n",
      "Requirement already satisfied: python-dateutil>=2.8.1 in c:\\users\\nc24281_silbia\\anaconda3\\lib\\site-packages (from pandas) (2.8.2)\n",
      "Requirement already satisfied: numpy>=1.21.0 in c:\\users\\nc24281_silbia\\anaconda3\\lib\\site-packages (from pandas) (1.23.5)\n",
      "Requirement already satisfied: pytz>=2020.1 in c:\\users\\nc24281_silbia\\anaconda3\\lib\\site-packages (from pandas) (2022.7)\n",
      "Requirement already satisfied: six>=1.5 in c:\\users\\nc24281_silbia\\anaconda3\\lib\\site-packages (from python-dateutil>=2.8.1->pandas) (1.16.0)\n"
     ]
    }
   ],
   "source": [
    "pip install pandas\n"
   ]
  },
  {
   "cell_type": "code",
   "execution_count": 6,
   "id": "86e6feb8",
   "metadata": {},
   "outputs": [],
   "source": [
    "import pandas as pd\n",
    "import os\n"
   ]
  },
  {
   "cell_type": "code",
   "execution_count": 7,
   "id": "561fa673",
   "metadata": {},
   "outputs": [],
   "source": [
    "excel_file = 'June 20 - ITR based underwriting .xlsx'\n",
    "column_name = 'NAME'\n",
    "\n",
    "df = pd.read_excel(excel_file)\n",
    "names = df[column_name].tolist()\n"
   ]
  },
  {
   "cell_type": "code",
   "execution_count": 9,
   "id": "5e109a60",
   "metadata": {},
   "outputs": [],
   "source": [
    "\n",
    "for name in names:\n",
    "    folder_path = os.path.join(os.getcwd(), str(name))\n",
    "    os.makedirs(folder_path, exist_ok=True)\n",
    "    \n",
    "    \n",
    "    readme_path = os.path.join(folder_path, 'readme.txt')\n",
    "    with open(readme_path, 'w') as f:\n",
    "        f.write('This is a sample readme file.\\n')\n",
    "        f.write('You can add any text or instructions here.')\n"
   ]
  },
  {
   "cell_type": "code",
   "execution_count": null,
   "id": "0c4a2171",
   "metadata": {},
   "outputs": [],
   "source": []
  }
 ],
 "metadata": {
  "kernelspec": {
   "display_name": "Python 3 (ipykernel)",
   "language": "python",
   "name": "python3"
  },
  "language_info": {
   "codemirror_mode": {
    "name": "ipython",
    "version": 3
   },
   "file_extension": ".py",
   "mimetype": "text/x-python",
   "name": "python",
   "nbconvert_exporter": "python",
   "pygments_lexer": "ipython3",
   "version": "3.10.9"
  }
 },
 "nbformat": 4,
 "nbformat_minor": 5
}
